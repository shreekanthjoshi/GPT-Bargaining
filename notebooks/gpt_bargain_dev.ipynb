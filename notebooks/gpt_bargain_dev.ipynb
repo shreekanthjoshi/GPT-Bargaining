{
 "cells": [
  {
   "cell_type": "code",
   "execution_count": null,
   "metadata": {},
   "outputs": [],
   "source": []
  },
  {
   "cell_type": "markdown",
   "id": "d904f26f-2fa8-4536-910d-9c519a7e21b4",
   "metadata": {},
   "source": [
    "# GPT Bargaining"
   ]
  },
  {
   "cell_type": "code",
   "execution_count": null,
   "metadata": {},
   "outputs": [],
   "source": [
    "import sys\n",
    "import os\n",
    "import time\n",
    "\n",
    "\n",
    "script_dir = os.path.abspath('../')\n",
    "sys.path.append( script_dir )\n",
    "print(sys.path)"
   ]
  },
  {
   "cell_type": "code",
   "execution_count": null,
   "id": "3e0fa832-744f-4a3b-bd9e-353cab4ea577",
   "metadata": {},
   "outputs": [],
   "source": [
    "import openai\n",
    "import re\n",
    "import time\n",
    "import json\n",
    "import matplotlib.pyplot as plt\n",
    "\n",
    "\n",
    "import numpy as np\n",
    "\n",
    "from tqdm import tqdm\n",
    "from pprint import pprint\n",
    "\n",
    "\n",
    "from agent import DialogAgent, load_initial_instructions, involve_moderator, parse_final_price, BuyerAgent, SellerAgent, ModeratorAgent, SellerCriticAgent\n",
    "from utils import wprint\n",
    "from tenacity import retry, stop_after_attempt, wait_chain, wait_fixed"
   ]
  },
  {
   "cell_type": "code",
   "execution_count": null,
   "id": "4a2c1602-a4bb-462c-a8fb-f413bef47da3",
   "metadata": {
    "tags": []
   },
   "outputs": [],
   "source": [
    "#openai.api_key = \"sk-\" "
   ]
  },
  {
   "cell_type": "code",
   "execution_count": null,
   "id": "f5ea97b7-7a02-41d2-8616-ed7dcbdf9fc0",
   "metadata": {},
   "outputs": [],
   "source": [
    "# openai.organization = \"\"\n",
    "# openai.api_key = \"\" "
   ]
  },
  {
   "cell_type": "code",
   "execution_count": null,
   "id": "c4abbc54",
   "metadata": {},
   "outputs": [],
   "source": [
    "#Note: The openai-python library support for Azure OpenAI is in preview.\n",
    "      #Note: This code sample requires OpenAI Python library version 0.28.1 or lower.\n",
    "import os\n",
    "import openai\n",
    "\n",
    "openai.api_type = \"azure\"\n",
    "openai.api_base = \" \"\n",
    "openai.api_version = \"2023-07-01-preview\"\n",
    "openai.api_key = ' '\n",
    "\n",
    "message_text = [{\"role\":\"system\",\"content\":\"Now enter the role-playing mode. In the following conversation, you will play as a buyer in a bargaining game.\"},{\"role\":\"user\",\"content\":\"Let's play a game. You want to buy a balloon and you are bargaining with a seller. Your goal is to buy it with a low price, as low as possible. You should only respond to your seller with one short, succinct sentence. Now ask a price.\"},{\"role\":\"assistant\",\"content\":\"Hi, how much is the balloon?\"},{\"role\":\"user\",\"content\":\"Hi, this is a good balloon and its price is $20\"}]\n",
    "\n",
    "completion = openai.ChatCompletion.create(\n",
    "  engine=\"gpt-4\",\n",
    "  messages = message_text,\n",
    "  temperature=0.8,\n",
    "  max_tokens=800,\n",
    "  top_p=0.95,\n",
    "  frequency_penalty=1.5,\n",
    "  presence_penalty=1.0,\n",
    "  stop=None\n",
    ")\n",
    "\n",
    "print(completion['choices'][0]['message'])"
   ]
  },
  {
   "cell_type": "markdown",
   "id": "bf311740-ead7-4281-9079-27a4544da4d0",
   "metadata": {},
   "source": [
    "# Bargaining"
   ]
  },
  {
   "cell_type": "markdown",
   "id": "09c01ff2-646a-4f24-b02c-0797fd888c08",
   "metadata": {},
   "source": [
    "## Seller Init."
   ]
  },
  {
   "cell_type": "code",
   "execution_count": null,
   "id": "36274d2a-7cfb-45d4-89c4-ffd801b4d305",
   "metadata": {},
   "outputs": [],
   "source": [
    "seller_initial_dialog_history = load_initial_instructions('..\\lib_prompt\\seller.txt')\n",
    "seller = SellerAgent(initial_dialog_history=seller_initial_dialog_history, agent_type=\"seller\", engine=\"gpt-3.5-turbo\")\n",
    "pprint(seller.dialog_history)"
   ]
  },
  {
   "cell_type": "code",
   "execution_count": null,
   "id": "d73c23ae-4a36-4382-a5dc-c9fe4b6cc344",
   "metadata": {},
   "outputs": [],
   "source": [
    "buyer_initial_dialog_history = load_initial_instructions('..\\lib_prompt\\\\buyer.txt')\n",
    "buyer = BuyerAgent(initial_dialog_history=buyer_initial_dialog_history, agent_type=\"buyer\", engine=\"gpt-3.5-turbo\")\n",
    "pprint(buyer.dialog_history)"
   ]
  },
  {
   "cell_type": "code",
   "execution_count": null,
   "id": "6cd6321a-d53f-4b4b-a7c7-4b88c22c7f25",
   "metadata": {},
   "outputs": [],
   "source": [
    "moderator_initial_dialog_history = load_initial_instructions(\"..\\lib_prompt\\moderator_buyer.txt\")\n",
    "moderator = ModeratorAgent(initial_dialog_history=moderator_initial_dialog_history, agent_type=\"moderator\", engine=\"gpt-3.5-turbo\")\n",
    "pprint(moderator.dialog_history)"
   ]
  },
  {
   "cell_type": "code",
   "execution_count": null,
   "id": "c1ff4bb4-a37c-486d-ba2c-11baf4cc7e6a",
   "metadata": {},
   "outputs": [],
   "source": [
    "def run(buyer, seller, moderator, n=5, fd=None, verbose=True):\n",
    "    wprint('seller: %s' % seller.last_response, fd, verbose=verbose)\n",
    "    wprint('buyer: %s' % buyer.last_response, fd, verbose=verbose)\n",
    "    \n",
    "    wprint('---- start bargaining ----', fd, verbose=verbose)\n",
    "    buyer_run = buyer.last_response\n",
    "    start_involve_moderator = False\n",
    "    deal_at = \"none\"\n",
    "    for _ in range(n):\n",
    "        time.sleep(1)\n",
    "        seller_run = seller.call(buyer_run)\n",
    "        wprint('seller: %s' % seller.last_response, fd, verbose=verbose)\n",
    "        \n",
    "        if(start_involve_moderator is False and involve_moderator(buyer_run, seller_run)):\n",
    "            start_involve_moderator = True\n",
    "            wprint('---- start moderating ----', fd, verbose=verbose)\n",
    "        \n",
    "        if(start_involve_moderator):\n",
    "            time.sleep(1)\n",
    "            moderate = moderator.moderate(seller.dialog_history,who_was_last=\"seller\")\n",
    "            wprint('MODERATE have the seller and the buyer achieved a deal? Yes or No: %s' % moderate, fd, verbose=verbose)\n",
    "            if(\"yes\" in moderate.lower()): \n",
    "                deal_at = \"seller\"\n",
    "                break\n",
    "            else: pass\n",
    "\n",
    "        time.sleep(1)   \n",
    "        buyer_run = buyer.call(seller_run)\n",
    "        wprint('buyer: %s' % buyer.last_response, fd, verbose=verbose)\n",
    "        \n",
    "        if(start_involve_moderator is False and involve_moderator(buyer_run, seller_run)):\n",
    "            start_involve_moderator = True\n",
    "            wprint('---- start moderating ----', fd, verbose=verbose)\n",
    "            \n",
    "        if(start_involve_moderator):\n",
    "            time.sleep(1)\n",
    "            moderate = moderator.moderate( buyer.dialog_history, who_was_last=\"buyer\")\n",
    "            wprint('MODERATE have the seller and the buyer achieved a deal? Yes or No: %s' % moderate, fd, verbose=verbose)\n",
    "            if(\"yes\" in moderate.lower()): \n",
    "                deal_at = \"buyer\"\n",
    "                break\n",
    "            else: pass\n",
    "                \n",
    "    if(deal_at != \"none\"):\n",
    "        if(deal_at == \"seller\"):\n",
    "            final_price = parse_final_price(seller.dialog_history)\n",
    "        else: \n",
    "            final_price = parse_final_price(buyer.dialog_history)\n",
    "        return final_price\n",
    "    else: return -1\n",
    "    "
   ]
  },
  {
   "cell_type": "code",
   "execution_count": null,
   "id": "533cbb20-027a-4931-9d22-1a1f419ae2b9",
   "metadata": {},
   "outputs": [],
   "source": [
    "buyer.reset()\n",
    "seller.reset()\n",
    "moderator.reset()\n",
    "final_price = run(buyer, seller, moderator, n=5)\n",
    "print('FINAL PRICE: %s' % final_price)"
   ]
  },
  {
   "cell_type": "markdown",
   "id": "d4edd7c4-a7f0-4d66-a816-ca717b977f3e",
   "metadata": {},
   "source": [
    "# Initial Experiments, 100 runs, estimate final deal mean and variance"
   ]
  },
  {
   "cell_type": "code",
   "execution_count": null,
   "id": "7ab19a9d-0168-4149-9e75-7d62f1785a77",
   "metadata": {
    "collapsed": true,
    "jupyter": {
     "outputs_hidden": true
    },
    "tags": []
   },
   "outputs": [],
   "source": [
    "final_prices = []\n",
    "with open(\"outputs/initial_100_runs.txt\", \"w\") as fd:\n",
    "    for i in range(100):\n",
    "        wprint(\"==== ROUND %d ====\" % i, fd)\n",
    "        buyer.reset()\n",
    "        seller.reset()\n",
    "        moderator.reset()\n",
    "        final_price = run(buyer, seller, moderator, n=5, fd=fd)\n",
    "        wprint('FINAL PRICE: %s' % final_price, fd)\n",
    "        if(final_price != -1):\n",
    "            final_prices.append(float(final_price))\n",
    "        wprint(\"\\n\\n\", fd)"
   ]
  },
  {
   "cell_type": "code",
   "execution_count": null,
   "id": "071235cb-f602-445d-885c-fd3a5e1432f2",
   "metadata": {
    "tags": []
   },
   "outputs": [],
   "source": [
    "print(np.average(final_prices), np.std(final_prices))"
   ]
  },
  {
   "cell_type": "code",
   "execution_count": null,
   "id": "cb2b3ada-3ee8-4c23-8965-f6fec0fb2cae",
   "metadata": {
    "tags": []
   },
   "outputs": [],
   "source": [
    "# Example list of data\n",
    "data = np.array(final_prices)\n",
    "\n",
    "# Divide data into 9 bins\n",
    "bins = np.linspace(10, 20, 10)\n",
    "\n",
    "# Compute histogram of the data\n",
    "hist, bins = np.histogram(data, bins=bins)\n",
    "\n",
    "# Create a bar plot using Matplotlib\n",
    "plt.figure(figsize=(4, 2), dpi=250)\n",
    "plt.bar(bins[:-1], hist, width=(bins[1]-bins[0]), align='edge')\n",
    "\n",
    "# Set the title and axis labels\n",
    "plt.title('Distribution of final price')\n",
    "plt.xlabel('Final price')\n",
    "plt.ylabel('Frequency')\n",
    "\n",
    "# Display the plot\n",
    "plt.show()"
   ]
  },
  {
   "cell_type": "markdown",
   "id": "861c77c9-0fe1-4224-82e0-b16eea97777f",
   "metadata": {},
   "source": [
    "# AI critic coaching the seller"
   ]
  },
  {
   "cell_type": "code",
   "execution_count": null,
   "id": "d5c6134a-8dc0-40ab-8fac-cbd62d796467",
   "metadata": {
    "tags": []
   },
   "outputs": [],
   "source": [
    "def run_w_critic(buyer, seller, moderator, critic, n=5, fd=None, verbose=True):\n",
    "    # Round 1\n",
    "    wprint('==== ROUND 1 ====', fd, verbose=verbose)\n",
    "    buyer.reset()\n",
    "    seller.reset()\n",
    "    moderator.reset()\n",
    "    round_1_price = run(buyer, seller, moderator, n=10, fd=fd, verbose=verbose)\n",
    "    wprint('PRICE: %s' % round_1_price, fd, verbose=verbose)\n",
    "    \n",
    "    # Round 2 after critic\n",
    "    buyer.reset()\n",
    "    moderator.reset()\n",
    "    ai_feedback = critic.criticize(seller.dialog_history)\n",
    "    wprint(\"FEEDBACK:\\n%s\\n\\n\" % ai_feedback, fd, verbose=verbose)\n",
    "    acknowledgement = seller.receive_feedback(ai_feedback,round_1_price)\n",
    "    \n",
    "    wprint('==== ROUND 2 ====', fd, verbose=verbose)\n",
    "    round_2_price = run(buyer, seller, moderator, n=10, fd=fd, verbose=verbose)\n",
    "    wprint('PRICE: %s' % round_2_price, fd, verbose=verbose)\n",
    "    \n",
    "    # Round 3 after critic\n",
    "#     buyer.reset()\n",
    "#     moderator.reset()\n",
    "#     ai_feedback = critic.criticize(seller.dialog_history)\n",
    "#     wprint(\"FEEDBACK: %s\\n\\n\" % ai_feedback, fd)\n",
    "#     acknowledgement = seller.receive_feedback(ai_feedback)\n",
    "    \n",
    "#     wprint('==== ROUND 3 ====', fd)\n",
    "#     price_after_feedback = run(buyer, seller, moderator, n=10, fd=fd)\n",
    "#     wprint('PRICE: %s' % price_after_feedback, fd)\n",
    "    return round_1_price, round_2_price"
   ]
  },
  {
   "cell_type": "code",
   "execution_count": null,
   "id": "409e3064-6b26-470f-a334-d91b47a896f1",
   "metadata": {
    "tags": []
   },
   "outputs": [],
   "source": [
    "critic_initial_dialog_history = load_initial_instructions(\"..\\lib_prompt\\seller_critic.txt\")\n",
    "critic = SellerCriticAgent(initial_dialog_history=critic_initial_dialog_history, agent_type=\"critic\", engine=\"gpt-3.5-turbo\")\n",
    "pprint(critic.dialog_history)"
   ]
  },
  {
   "cell_type": "code",
   "execution_count": null,
   "id": "6b7652a4-7025-4bb4-b58a-d2e55ceba584",
   "metadata": {
    "tags": []
   },
   "outputs": [],
   "source": [
    "run_w_critic(buyer, seller, moderator, critic, n=5, fd=None)"
   ]
  },
  {
   "cell_type": "code",
   "execution_count": null,
   "id": "36238a99-1aa1-4462-aebc-46e11480d1cd",
   "metadata": {
    "tags": []
   },
   "outputs": [],
   "source": [
    "round_1_prices = []\n",
    "round_2_prices = []\n",
    "verbose = False\n",
    "with open(\"outputs/seller_critic_100_runs.txt\", \"w\") as fd:\n",
    "    for i in tqdm(range(100)):\n",
    "        wprint(\"==== CASE %d ====\" % i, fd, verbose=verbose)\n",
    "        buyer.reset()\n",
    "        seller.reset()\n",
    "        moderator.reset()\n",
    "        round_1_price, round_2_price = run_w_critic(buyer, seller, moderator, critic, n=8, fd=fd, verbose=False)\n",
    "        \n",
    "        if(round_1_price > 10 and round_1_price < 20 and round_2_price > 10 and round_2_price < 20):\n",
    "            round_1_prices.append(round_1_price)\n",
    "            round_2_prices.append(round_2_price)\n",
    "        wprint(\"\\n\\n\\n\\n\", fd, verbose=verbose)"
   ]
  },
  {
   "cell_type": "code",
   "execution_count": null,
   "id": "80676403-8d85-4f8e-b2af-5d49b05d6af7",
   "metadata": {
    "tags": []
   },
   "outputs": [],
   "source": [
    "round_2_price"
   ]
  },
  {
   "cell_type": "code",
   "execution_count": null,
   "id": "ce10b1f9-7097-4cdd-923c-6ac1e85ce3b7",
   "metadata": {
    "tags": []
   },
   "outputs": [],
   "source": [
    "print(np.average(round_1_prices), np.std(round_1_prices))"
   ]
  },
  {
   "cell_type": "code",
   "execution_count": null,
   "id": "4e44c062-4115-402b-b665-457d6111f877",
   "metadata": {
    "tags": []
   },
   "outputs": [],
   "source": [
    "print(np.average(round_2_prices), np.std(round_2_prices))"
   ]
  },
  {
   "cell_type": "code",
   "execution_count": null,
   "id": "5908c21f-8dff-42f1-95bd-58b79a4e1dbd",
   "metadata": {
    "tags": []
   },
   "outputs": [],
   "source": [
    "# Example list of data\n",
    "data_1 = np.array(round_1_prices)\n",
    "data_2 = np.array(round_2_prices)\n",
    "\n",
    "# Divide data into 9 bins\n",
    "bins_1 = np.linspace(10, 20, 10)\n",
    "bins_2 = np.linspace(10, 20, 10)\n",
    "\n",
    "# Compute histogram of the data\n",
    "hist_1, bins_1 = np.histogram(data_1, bins=bins_1)\n",
    "hist_2, bins_2 = np.histogram(data_2, bins=bins_2)\n",
    "\n",
    "# Create a bar plot using Matplotlib\n",
    "plt.figure(figsize=(4, 2), dpi=250)\n",
    "plt.bar(bins_1[:-1]+0, hist_1, width=0.3 * (bins_1[1]-bins_1[0]), align='edge', label='Before AI Critic')\n",
    "plt.bar(bins_2[:-1]+0.3, hist_2, width=0.3 * (bins_2[1]-bins_2[0]), align='edge', label='After AI Critic')\n",
    "\n",
    "# Set the title and axis labels\n",
    "plt.title('Distribution of deal price')\n",
    "xticks = np.arange(10, 21, 2)\n",
    "plt.xticks(xticks, [str(x) for x in xticks], fontsize=8)\n",
    "plt.xlabel('Deal price')\n",
    "plt.ylabel('Frequency')\n",
    "plt.legend(fontsize=7)\n",
    "\n",
    "# Display the plot\n",
    "plt.show()"
   ]
  }
 ],
 "metadata": {
  "kernelspec": {
   "display_name": "Python 3.11.4 64-bit",
   "language": "python",
   "name": "python3"
  },
  "language_info": {
   "name": "python",
   "version": "3.11.4"
  },
  "orig_nbformat": 4,
  "vscode": {
   "interpreter": {
    "hash": "03f63be00ced0e2ef2cbbfb29511571bc74ab17e26fe4c2aa6e6e842e2678362"
   }
  }
 },
 "nbformat": 4,
 "nbformat_minor": 2
}
