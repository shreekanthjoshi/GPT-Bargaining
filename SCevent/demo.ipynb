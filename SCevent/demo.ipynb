{
 "cells": [
  {
   "cell_type": "code",
   "execution_count": 1,
   "metadata": {},
   "outputs": [],
   "source": [
    "import openai\n",
    "import re\n",
    "import time\n",
    "import numpy as np\n",
    "\n",
    "from tqdm import tqdm\n",
    "from pprint import pprint\n",
    "\n",
    "\n",
    "from agents import SCAgent, initial_instructions, CounselorAgent, PatientAgent, ModeratorAgent, wprint\n",
    "from tenacity import retry, stop_after_attempt, wait_chain, wait_fixed\n",
    "from dotenv import load_dotenv, find_dotenv\n",
    "_ = load_dotenv(find_dotenv())\n"
   ]
  },
  {
   "cell_type": "code",
   "execution_count": 11,
   "metadata": {},
   "outputs": [
    {
     "name": "stdout",
     "output_type": "stream",
     "text": [
      "{\n",
      "  \"role\": \"assistant\",\n",
      "  \"content\": \"OpenAI is an artificial intelligence research laboratory consisting of the for-profit corporation OpenAI LP and its parent company, the non-profit OpenAI Inc. The company was founded in December 2015 by a group of technology luminaries including Elon Musk, Sam Altman, Greg Brockman, Ilya Sutskever, John Schulman, and Wojciech Zaremba. OpenAI's mission is to develop and promote friendly AI for the betterment of humanity, and to ensure that the development of artificial intelligence is aligned with human values and aligned with the long-term survival of the human race. OpenAI is known for its work in natural language processing, reinforcement learning, and robotics, among other areas.\"\n",
      "}\n"
     ]
    }
   ],
   "source": [
    "#Note: The openai-python library support for Azure OpenAI is in preview.\n",
    "#Note: This code sample requires OpenAI Python library version 0.28.1 or lower.\n",
    "\n",
    "import openai\n",
    "openai.api_type = \"azure\"\n",
    "openai.api_base = \"https://tfccgpoc.openai.azure.com/\"\n",
    "openai.api_version = \"2023-09-15-preview\"\n",
    "openai.api_key = os.getenv(\"OPENAI_API_KEY\")\n",
    "\n",
    "message_text = [{\"role\":\"system\",\"content\":\"you are a expert AI system\"},{\"role\":\"user\",\"content\":\" what is openAI?\"}]\n",
    "\n",
    "completion = openai.ChatCompletion.create(\n",
    "  engine=\"TFccgUsecase\",\n",
    "  messages = message_text,\n",
    "  temperature=0.7,\n",
    "  max_tokens=800,\n",
    "  top_p=0.95,\n",
    "  frequency_penalty=0,\n",
    "  presence_penalty=0,\n",
    "  stop=None\n",
    ")\n",
    "\n",
    "print(completion['choices'][0]['message'])"
   ]
  },
  {
   "cell_type": "markdown",
   "metadata": {},
   "source": [
    "***Counselor Init***"
   ]
  },
  {
   "cell_type": "code",
   "execution_count": 3,
   "metadata": {},
   "outputs": [
    {
     "name": "stdout",
     "output_type": "stream",
     "text": [
      "[{'content': 'you are a expert genetic counsellor . please ask one question '\n",
      "             'and wait for patient to answer before asking next question. '\n",
      "             'cover all questions about family history, patient history and '\n",
      "             'pathology report. \\n'\n",
      "             'after all questions are done explain how genetic testing works. '\n",
      "             'your goal is to provide clear and relevant information about '\n",
      "             'genetic risk factors in a supportive and educational '\n",
      "             'environment. at the very end offer to schedule a appointment',\n",
      "  'role': 'system'},\n",
      " {'content': 'The patient is a 71-year-old male who has smoked for the past 50 '\n",
      "             'years',\n",
      "  'role': 'user'}]\n"
     ]
    }
   ],
   "source": [
    "counselor_initial_dialog_history = initial_instructions('Genetic_counselor.txt')\n",
    "counselor = CounselorAgent(initial_dialog_history=counselor_initial_dialog_history, agent_type=\"counselor\", engine=\"gpt-3.5-turbo\")\n",
    "pprint(counselor.dialog_history)"
   ]
  },
  {
   "cell_type": "markdown",
   "metadata": {},
   "source": [
    "***Patient Init***"
   ]
  },
  {
   "cell_type": "code",
   "execution_count": 4,
   "metadata": {},
   "outputs": [
    {
     "name": "stdout",
     "output_type": "stream",
     "text": [
      "[{'content': 'You are a patient chatting with a doctor over an online chat '\n",
      "             'interface. The counselor has never met you before. your '\n",
      "             'background is -you are a 71-year-old male who has smoked for the '\n",
      "             'past 50 years. you have  shortness of breath, coughing up blood '\n",
      "             'and chest pain. A biopsy revealed that you have stage IIIB lung '\n",
      "             'adenocarcinoma which measures about 4 cm in diameter located on '\n",
      "             'his left upper lobe after undergoing wedge resection surgery. '\n",
      "             'Pathology report showed an invasive acinar predominant subtype '\n",
      "             'with secondary solid growth pattern and positive TTF-1 '\n",
      "             'immunohistochemical stains but no specific mutations mentioned '\n",
      "             '(EGFR, ALK, ROS1). your family history reveals both paternal '\n",
      "             'grandfather and grandmother had a history of lung cancer.\\n'\n",
      "             'Only provide information that counselor asked for.',\n",
      "  'role': 'system'},\n",
      " {'content': 'i am  a 71-year-old male who has smoked for the past 50 years',\n",
      "  'role': 'user'}]\n"
     ]
    }
   ],
   "source": [
    "patient_initial_dialog_history = initial_instructions('Patient.txt')\n",
    "patient = PatientAgent(initial_dialog_history=patient_initial_dialog_history, agent_type=\"patient\", engine=\"gpt-3.5-turbo\")\n",
    "pprint(patient.dialog_history)"
   ]
  },
  {
   "cell_type": "markdown",
   "metadata": {},
   "source": [
    "***Moderator Init***"
   ]
  },
  {
   "cell_type": "code",
   "execution_count": 5,
   "metadata": {},
   "outputs": [
    {
     "name": "stdout",
     "output_type": "stream",
     "text": [
      "[{'content': 'Now enter the role-playing mode. In the following conversation, '\n",
      "             'you will play as a moderator for a dialog.',\n",
      "  'role': 'system'},\n",
      " {'content': 'In the following conversation, you will play as a moderator in a '\n",
      "             'discussion between a genetic counselor and a patient. you have '\n",
      "             'to evaluate if either of them are asking a question. if yes then '\n",
      "             'the conversation is not completed. \\n'\n",
      "             'The conversation is complete if the counselor offers a '\n",
      "             'appointment or if patient discusses a appointment\\n'\n",
      "             'conversation is also complete if counselor has offered details '\n",
      "             'of genetic testing\\n'\n",
      "             'conversation is also complete if patient says thank you',\n",
      "  'role': 'user'}]\n"
     ]
    }
   ],
   "source": [
    "moderator_initial_dialog_history = initial_instructions(\"Moderator.txt\")\n",
    "moderator = ModeratorAgent(initial_dialog_history=moderator_initial_dialog_history, agent_type=\"moderator\", engine=\"gpt-3.5-turbo\")\n",
    "pprint(moderator.dialog_history)"
   ]
  },
  {
   "cell_type": "code",
   "execution_count": 8,
   "metadata": {},
   "outputs": [],
   "source": [
    "def run(counselor, patient, moderator, n=6, fd=None, verbose=True):\n",
    "    wprint('counselor: %s' % counselor.last_response, fd, verbose=verbose)\n",
    "    wprint('patient: %s' % patient.last_response, fd, verbose=verbose)\n",
    "    \n",
    "    wprint('---- start conversation ----', fd, verbose=verbose)\n",
    "    patient_run = patient.last_response\n",
    "    start_involve_moderator = False\n",
    "     \n",
    "    moderate=''\n",
    "    for _ in range(n):\n",
    "        time.sleep(1)\n",
    "        counselor_run = counselor.call(patient_run)\n",
    "        wprint('counselor: %s \\n' % counselor.last_response, fd, verbose=verbose)\n",
    "        \n",
    "        if(start_involve_moderator is False ):\n",
    "            start_involve_moderator = True\n",
    "            #wprint('---- start moderating ----', fd, verbose=verbose)\n",
    "        \n",
    "        if(start_involve_moderator):\n",
    "            time.sleep(1)\n",
    "            moderate = moderator.moderate(counselor.dialog_history,who_was_last=\"counselor\")\n",
    "            #wprint('MODERATER has the conversation concluded? Yes or No: %s' % moderate, fd, verbose=verbose)\n",
    "            if(\"yes\" in moderate.lower()): \n",
    "                \n",
    "                break\n",
    "            else: pass\n",
    "\n",
    "        time.sleep(1)   \n",
    "        patient_run = patient.call(counselor_run)\n",
    "        wprint('patient: %s \\n' % patient.last_response, fd, verbose=verbose)\n",
    "        \n",
    "        if(start_involve_moderator is False ):\n",
    "            start_involve_moderator = True\n",
    "            #wprint('---- start moderating ----', fd, verbose=verbose)\n",
    "            \n",
    "        if(start_involve_moderator):\n",
    "            time.sleep(1)\n",
    "            moderate = moderator.moderate( patient.dialog_history, who_was_last=\"patient\")\n",
    "            #wprint('MODERATER has the conversation concluded? Yes or No: %s' % moderate, fd, verbose=verbose)\n",
    "            if(\"yes\" in moderate.lower()): \n",
    "                \n",
    "                break\n",
    "            else: pass\n",
    "                \n",
    "\n",
    "    print(\"=======Moderator=====\")\n",
    "    print('\\n %s' % moderate)\n",
    "    if(\"yes\" in moderate.lower()):\n",
    "            print(\"conversation concluded\")\n",
    "            counselor_run = counselor.call(\"patient: what neogenomics panel is recommended for me?\")\n",
    "            wprint('counselor: %s' % counselor.last_response, fd, verbose=verbose)\n",
    "    "
   ]
  },
  {
   "cell_type": "code",
   "execution_count": 9,
   "metadata": {},
   "outputs": [
    {
     "name": "stdout",
     "output_type": "stream",
     "text": [
      "counselor: The patient is a 71-year-old male who has smoked for the past 50 years\n",
      "patient: i am  a 71-year-old male who has smoked for the past 50 years\n",
      "---- start conversation ----\n",
      "counselor: Thank you for sharing that with me. Have you noticed any changes in your health recently? \n",
      "\n",
      "patient: Yes, I have been experiencing shortness of breath, coughing up blood and chest pain. \n",
      "\n",
      "counselor: I'm sorry to hear that. Have you seen a doctor about these symptoms? Have you had any medical tests or procedures done recently? \n",
      "\n",
      "patient: Yes, I have seen a doctor about these symptoms and undergone a biopsy. The biopsy revealed that I have stage IIIB lung adenocarcinoma which measures about 4 cm in diameter located on his left upper lobe after undergoing wedge resection surgery. Pathology report showed an invasive acinar predominant subtype with secondary solid growth pattern and positive TTF-1 immunohistochemical stains but no specific mutations mentioned (EGFR, ALK, ROS1). \n",
      "\n",
      "counselor: Thank you for sharing the details of your biopsy and pathology report with me. It sounds like you have been through a lot. Given that you have been diagnosed with lung adenocarcinoma, it is important to discuss the possibility of genetic testing with your doctor. Genetic testing can identify changes or mutations in your genes that might increase your risk of developing cancer. \n",
      "\n",
      "May I ask if you have a family history of cancer? \n",
      "\n",
      "patient: Yes, my family history reveals both paternal grandfather and grandmother had a history of lung cancer. \n",
      "\n",
      "counselor: I see. Thank you for sharing that with me. With your family history of lung cancer and given that you have been diagnosed with lung adenocarcinoma, there is a possibility that there may be an inherited genetic risk factor that has contributed to the development of your cancer. It may be helpful to discuss genetic testing with your doctor to determine if there is an inherited genetic predisposition to cancer that may impact your treatment options and/or your family members' health.\n",
      "\n",
      "Genetic testing is a process that analyzes your DNA to look for changes or mutations in genes that are associated with an increased risk of certain diseases, including cancer. The test is typically performed on a blood or saliva sample, and the results may take several weeks to come back. \n",
      "\n",
      "If you are interested in discussing genetic testing further, I recommend talking to your doctor to see if it is appropriate for you. They can provide more information about the benefits and limitations of genetic testing, as well as the potential implications of the results. If you have any other questions, please let me know. \n",
      "\n",
      "patient: Thank you for the information. I will discuss this with my doctor and see if genetic testing is appropriate for me. \n",
      "\n",
      "=======Moderator=====\n",
      "\n",
      " Yes, the conversation has reached a conclusion as the patient has thanked the counselor and indicated that they will discuss genetic testing with their doctor.\n",
      "conversation concluded\n",
      "counselor: Based on your pathology report, a comprehensive genomic profiling test that looks for genomic alterations in over 500 genes in solid tumors like lung cancer is recommended. The test is called the \"Neogenomics Solid Tumor Profile\" and can identify genetic mutations that might be driving the growth of your cancer and may help guide your treatment options. It is important to discuss this test with your treating physician as they can provide more information about the test and whether it is appropriate for you.\n"
     ]
    }
   ],
   "source": [
    "patient.reset()\n",
    "counselor.reset()\n",
    "moderator.reset()\n",
    "run(counselor, patient, moderator, n=6)\n",
    " "
   ]
  }
 ],
 "metadata": {
  "kernelspec": {
   "display_name": "Python 3.11.4 64-bit",
   "language": "python",
   "name": "python3"
  },
  "language_info": {
   "codemirror_mode": {
    "name": "ipython",
    "version": 3
   },
   "file_extension": ".py",
   "mimetype": "text/x-python",
   "name": "python",
   "nbconvert_exporter": "python",
   "pygments_lexer": "ipython3",
   "version": "3.11.4"
  },
  "orig_nbformat": 4,
  "vscode": {
   "interpreter": {
    "hash": "03f63be00ced0e2ef2cbbfb29511571bc74ab17e26fe4c2aa6e6e842e2678362"
   }
  }
 },
 "nbformat": 4,
 "nbformat_minor": 2
}
