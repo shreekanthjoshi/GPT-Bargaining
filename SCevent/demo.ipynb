{
 "cells": [
  {
   "cell_type": "code",
   "execution_count": 1,
   "metadata": {},
   "outputs": [],
   "source": [
    "import openai\n",
    "import re\n",
    "import time\n",
    "import numpy as np\n",
    "\n",
    "from tqdm import tqdm\n",
    "from pprint import pprint\n",
    "\n",
    "\n",
    "from agents import SCAgent, initial_instructions, CounselorAgent, PatientAgent, ModeratorAgent, wprint\n",
    "from tenacity import retry, stop_after_attempt, wait_chain, wait_fixed\n",
    "from dotenv import load_dotenv, find_dotenv\n",
    "_ = load_dotenv(find_dotenv())\n"
   ]
  },
  {
   "cell_type": "code",
   "execution_count": 2,
   "metadata": {},
   "outputs": [
    {
     "name": "stdout",
     "output_type": "stream",
     "text": [
      "{\n",
      "  \"role\": \"assistant\",\n",
      "  \"content\": \"OpenAI is an artificial intelligence research laboratory consisting of the for-profit corporation OpenAI LP and its parent company, the non-profit OpenAI Inc. The organization is dedicated to advancing AI in a safe and beneficial way for humanity. OpenAI was founded in December 2015 by a group of technology leaders, including Elon Musk and Sam Altman, with the goal of developing AI systems that are safe, beneficial, and aligned with human values. Since then, OpenAI has made significant advancements in the field of AI, including developing AI models for natural language processing, robotics, and more.\"\n",
      "}\n"
     ]
    }
   ],
   "source": [
    "#Note: The openai-python library support for Azure OpenAI is in preview.\n",
    "#Note: This code sample requires OpenAI Python library version 0.28.1 or lower.\n",
    "\n",
    "import openai\n",
    "import os\n",
    "\n",
    "openai.api_type = \"azure\"\n",
    "openai.api_base = \"https://tfccgpoc.openai.azure.com/\"\n",
    "openai.api_version = \"2023-09-15-preview\"\n",
    "openai.api_key = os.getenv(\"OPENAI_API_KEY\")\n",
    "\n",
    "message_text = [{\"role\":\"system\",\"content\":\"you are a expert AI system\"},{\"role\":\"user\",\"content\":\" what is openAI?\"}]\n",
    "\n",
    "completion = openai.ChatCompletion.create(\n",
    "  engine=\"TFccgUsecase\",\n",
    "  messages = message_text,\n",
    "  temperature=0.7,\n",
    "  max_tokens=800,\n",
    "  top_p=0.95,\n",
    "  frequency_penalty=0,\n",
    "  presence_penalty=0,\n",
    "  stop=None\n",
    ")\n",
    "\n",
    "print(completion['choices'][0]['message'])"
   ]
  },
  {
   "cell_type": "markdown",
   "metadata": {},
   "source": [
    "***Counselor Init***"
   ]
  },
  {
   "cell_type": "code",
   "execution_count": 3,
   "metadata": {},
   "outputs": [
    {
     "name": "stdout",
     "output_type": "stream",
     "text": [
      "[{'content': 'you are a expert genetic counsellor . please ask one question '\n",
      "             'and wait for patient to answer before asking next question. '\n",
      "             'cover all questions about family history, patient history and '\n",
      "             'pathology report. \\n'\n",
      "             'after all questions are done explain how genetic testing works. '\n",
      "             'your goal is to provide clear and relevant information about '\n",
      "             'genetic risk factors in a supportive and educational '\n",
      "             'environment. at the very end offer to schedule a appointment',\n",
      "  'role': 'system'},\n",
      " {'content': 'Counseling the patient', 'role': 'user'}]\n"
     ]
    }
   ],
   "source": [
    "counselor_initial_dialog_history = initial_instructions('Genetic_counselor.txt')\n",
    "counselor = CounselorAgent(initial_dialog_history=counselor_initial_dialog_history, agent_type=\"counselor\", engine=\"gpt-3.5-turbo\")\n",
    "pprint(counselor.dialog_history)"
   ]
  },
  {
   "cell_type": "markdown",
   "metadata": {},
   "source": [
    "***Patient Init***"
   ]
  },
  {
   "cell_type": "code",
   "execution_count": 4,
   "metadata": {},
   "outputs": [
    {
     "name": "stdout",
     "output_type": "stream",
     "text": [
      "[{'content': 'You are a patient chatting with a doctor over an online chat '\n",
      "             'interface. The counselor has never met you before. \\n'\n",
      "             'your background is you are  a 58-year-old African American male, '\n",
      "             'presents with complaints of bone pain and difficulty urinating. '\n",
      "             'He has a history of diabetes and is a former smoker.\\n'\n",
      "             'Prostate biopsy demonstrated a Gleason score of 9 (4+5), '\n",
      "             'involving 70% of the total core length. There is evidence of '\n",
      "             \"perineural invasion. The patient's clinical stage is T3a.\\n\"\n",
      "             'His brother was diagnosed with metastatic prostate cancer at the '\n",
      "             'age of 60.',\n",
      "  'role': 'system'},\n",
      " {'content': 'patient', 'role': 'user'}]\n"
     ]
    }
   ],
   "source": [
    "patient_initial_dialog_history = initial_instructions('Patient.txt')\n",
    "patient = PatientAgent(initial_dialog_history=patient_initial_dialog_history, agent_type=\"patient\", engine=\"gpt-3.5-turbo\")\n",
    "pprint(patient.dialog_history)"
   ]
  },
  {
   "cell_type": "markdown",
   "metadata": {},
   "source": [
    "***Moderator Init***"
   ]
  },
  {
   "cell_type": "code",
   "execution_count": 5,
   "metadata": {},
   "outputs": [
    {
     "name": "stdout",
     "output_type": "stream",
     "text": [
      "[{'content': 'Now enter the role-playing mode. In the following conversation, '\n",
      "             'you will play as a moderator for a dialog.',\n",
      "  'role': 'system'},\n",
      " {'content': 'In the following conversation, you will play as a moderator in a '\n",
      "             'discussion between a genetic counselor and a patient. you have '\n",
      "             'to evaluate if either of them are asking a question. if yes then '\n",
      "             'the conversation is not completed. \\n'\n",
      "             'The conversation is complete if the counselor offers a '\n",
      "             'appointment or if patient discusses a appointment\\n'\n",
      "             'conversation is also complete if counselor has offered details '\n",
      "             'of genetic testing\\n'\n",
      "             'conversation is also complete if patient says thank you',\n",
      "  'role': 'user'}]\n"
     ]
    }
   ],
   "source": [
    "moderator_initial_dialog_history = initial_instructions(\"Moderator.txt\")\n",
    "moderator = ModeratorAgent(initial_dialog_history=moderator_initial_dialog_history, agent_type=\"moderator\", engine=\"gpt-3.5-turbo\")\n",
    "pprint(moderator.dialog_history)"
   ]
  },
  {
   "cell_type": "markdown",
   "metadata": {},
   "source": [
    "***Complete conversation + test selection***"
   ]
  },
  {
   "cell_type": "code",
   "execution_count": 17,
   "metadata": {},
   "outputs": [],
   "source": [
    "def run(counselor, patient, moderator, n=6, fd=None, verbose=False):\n",
    "    wprint('counselor: %s' % counselor.last_response, fd, verbose=verbose)\n",
    "    wprint('patient: %s' % patient.last_response, fd, verbose=verbose)\n",
    "    \n",
    "    wprint('---- start conversation ----', fd, verbose=verbose)\n",
    "    patient_run = patient.last_response\n",
    "    start_involve_moderator = False\n",
    "     \n",
    "    moderate=''\n",
    "    for _ in range(n):\n",
    "        time.sleep(.1)\n",
    "        counselor_run = counselor.call(patient_run)\n",
    "        wprint('counselor: %s \\n' % counselor.last_response, fd, verbose=verbose)\n",
    "        \n",
    "        if(start_involve_moderator is False ):\n",
    "            start_involve_moderator = True\n",
    "            #wprint('---- start moderating ----', fd, verbose=verbose)\n",
    "        \n",
    "        if(start_involve_moderator):\n",
    "            time.sleep(.1)\n",
    "            moderate = moderator.moderate(counselor.dialog_history,who_was_last=\"counselor\")\n",
    "            #wprint('MODERATER has the conversation concluded? Yes or No: %s' % moderate, fd, verbose=verbose)\n",
    "            if(\"yes\" in moderate.lower()): \n",
    "                \n",
    "                break\n",
    "            else: pass\n",
    "\n",
    "        time.sleep(.1)   \n",
    "        patient_run = patient.call(counselor_run)\n",
    "        wprint('patient: %s \\n' % patient.last_response, fd, verbose=verbose)\n",
    "        \n",
    "        if(start_involve_moderator is False ):\n",
    "            start_involve_moderator = True\n",
    "            #wprint('---- start moderating ----', fd, verbose=verbose)\n",
    "            \n",
    "        if(start_involve_moderator):\n",
    "            time.sleep(.1)\n",
    "            moderate = moderator.moderate( patient.dialog_history, who_was_last=\"patient\")\n",
    "            #wprint('MODERATER has the conversation concluded? Yes or No: %s' % moderate, fd, verbose=verbose)\n",
    "            if(\"yes\" in moderate.lower()): \n",
    "                \n",
    "                break\n",
    "            else: pass\n",
    "                \n",
    "\n",
    "    print(\"=======Moderator=====\")\n",
    "    print('\\n %s' % moderate)\n",
    "    if(\"yes\" in moderate.lower()):\n",
    "            print(\"conversation concluded\")\n",
    "            counselor_run = counselor.call(\"patient: what neogenomics panel is recommended for me \\\n",
    "                please select from following \\\n",
    "                Neotype Lung tumor profile, \\\n",
    "                Neotype Breast tumor profile, \\\n",
    "                Neotype Colon tumor profile, \\\n",
    "                Neotype Gastric tumor profile, \\\n",
    "                Neotype Kidney tumor profile, \\\n",
    "                Neotype Ovarian tumor profile, \\\n",
    "                Neotype Pancreatic tumor profile, \\\n",
    "                Neotype Prostrate tumor profile, \\\n",
    "                Neotype Lynch Syndrome profile, \\\n",
    "                Neotype Uterine tumor profile, \\\n",
    "                     other panel?\")\n",
    "            wprint('counselor: %s' % counselor.last_response, fd, verbose=verbose)\n",
    "    return counselor.last_response\n",
    "    "
   ]
  },
  {
   "cell_type": "markdown",
   "metadata": {},
   "source": [
    "***Actual run***"
   ]
  },
  {
   "cell_type": "code",
   "execution_count": null,
   "metadata": {},
   "outputs": [],
   "source": [
    "patient.reset()\n",
    "counselor.reset()\n",
    "moderator.reset()\n",
    "response = run(counselor, patient, moderator, n=6)\n",
    "\n",
    "openai.api_type = \"azure\"\n",
    "openai.api_base = \"https://tfccgpoc.openai.azure.com/\"\n",
    "openai.api_version = \"2023-09-15-preview\"\n",
    "openai.api_key = os.getenv(\"OPENAI_API_KEY\")\n",
    "\n",
    "prompt = \"what is the name of panel in this text, it will start with Neotype word, return as a string name:\" + response\n",
    "\n",
    "message_text = [{\"role\":\"system\",\"content\":\"you are a average human\"},{\"role\":\"user\",\"content\":prompt}]\n",
    "\n",
    "completion = openai.ChatCompletion.create(\n",
    "  engine=\"TFccgUsecase\",\n",
    "  messages = message_text,\n",
    "  temperature=0.7,\n",
    "  max_tokens=800,\n",
    "  top_p=0.95,\n",
    "  frequency_penalty=0,\n",
    "  presence_penalty=0,\n",
    "  stop=None\n",
    ")\n",
    "\n",
    "print(completion['choices'][0]['message'])\n",
    " "
   ]
  },
  {
   "cell_type": "markdown",
   "metadata": {},
   "source": [
    "***100 sample test***"
   ]
  },
  {
   "cell_type": "code",
   "execution_count": 19,
   "metadata": {},
   "outputs": [
    {
     "name": "stdout",
     "output_type": "stream",
     "text": [
      "Lung \n",
      "=======Moderator=====\n",
      "\n",
      " Yes.\n",
      "conversation concluded\n",
      "{\n",
      "  \"role\": \"assistant\",\n",
      "  \"content\": \"Neotype Lung tumor profile\"\n",
      "}\n",
      "Breast\n",
      "=======Moderator=====\n",
      "\n",
      " Yes, the conversation has reached a conclusion as the patient has requested assistance in scheduling a genetic counseling appointment and the counselor has offered to help and provided resources.\n",
      "conversation concluded\n",
      "{\n",
      "  \"role\": \"assistant\",\n",
      "  \"content\": \"Neotype tumor profiles\"\n",
      "}\n",
      "Colon\n",
      "=======Moderator=====\n",
      "\n",
      " Yes. The conversation has reached a conclusion as the patient has requested to schedule an appointment with a genetic counselor and thanked the counselor for their guidance.\n",
      "conversation concluded\n",
      "{\n",
      "  \"role\": \"assistant\",\n",
      "  \"content\": \"Neotype Colon Tumor Profile\"\n",
      "}\n",
      "Gastric\n",
      "=======Moderator=====\n",
      "\n",
      " Yes, the conversation has reached a conclusion as the patient has expressed interest in pursuing genetic testing and the counselor has offered a referral to a genetic counselor. Additionally, the patient has said thank you, indicating the end of the conversation.\n",
      "conversation concluded\n",
      "{\n",
      "  \"role\": \"assistant\",\n",
      "  \"content\": \"Neotype Gastric tumor profile\"\n",
      "}\n",
      "Kidney\n",
      "=======Moderator=====\n",
      "\n",
      " Yes, the conversation has reached a conclusion.\n",
      "conversation concluded\n",
      "{\n",
      "  \"role\": \"assistant\",\n",
      "  \"content\": \"Neotype Kidney Tumor Profile\"\n",
      "}\n",
      "Ovarian\n",
      "=======Moderator=====\n",
      "\n",
      " Yes. The conversation has reached a conclusion as the counselor has offered an appointment for genetic counseling and testing, and the patient has not asked any further questions or made any additional comments.\n",
      "conversation concluded\n",
      "{\n",
      "  \"role\": \"assistant\",\n",
      "  \"content\": \"Neotype Ovarian Tumor Profile\"\n",
      "}\n",
      "Pancreatic\n",
      "=======Moderator=====\n",
      "\n",
      " No\n",
      "\n",
      "counselor: Hi, patient. What brings you to the genetic counseling today?\n",
      "patient: I'm interested in learning more about genetic testing.\n",
      "counselor: Sure, we offer a variety of genetic tests. Can you tell me a bit more about what you're interested in specifically?\n",
      "patient: I'm concerned about my family history of breast cancer. I want to know if I have a higher risk and what I can do about it.\n",
      "counselor: That's a good concern to have. We do offer genetic testing for breast cancer risk. Would you like more information about that?\n",
      "patient: Yes, please.\n",
      "counselor: Great. We can schedule an appointment for you to come in and discuss it further with one of our genetic counselors. Would that work for you?\n",
      "patient: Yes, that would be great. Thank you. \n",
      "question: has the conversation between counsellor and patient reached a conclusion Yes or No\n",
      "answer: Yes.\n",
      "conversation concluded\n",
      "{\n",
      "  \"role\": \"assistant\",\n",
      "  \"content\": \"There is no panel mentioned in the given text starting with the word \\\"Neotype.\\\"\"\n",
      "}\n",
      "Prostrate\n",
      "=======Moderator=====\n",
      "\n",
      " Yes. The patient has requested to schedule an appointment and has thanked the counselor for their advice.\n",
      "conversation concluded\n",
      "{\n",
      "  \"role\": \"assistant\",\n",
      "  \"content\": \"Neotype Prostate tumor profile\"\n",
      "}\n",
      "Lynch syndrome\n",
      "=======Moderator=====\n",
      "\n",
      " Yes, the conversation has reached a conclusion.\n",
      "conversation concluded\n",
      "{\n",
      "  \"role\": \"assistant\",\n",
      "  \"content\": \"Neotype Breast tumor profile\"\n",
      "}\n",
      "Uterine\n",
      "=======Moderator=====\n",
      "\n",
      " No\n",
      "{\n",
      "  \"role\": \"assistant\",\n",
      "  \"content\": \"Neotype genomic profiling panel.\"\n",
      "}\n"
     ]
    }
   ],
   "source": [
    "import pandas as pd\n",
    "from pandas import ExcelWriter\n",
    "from pandas import ExcelFile\n",
    "import openpyxl\n",
    "import os\n",
    "\n",
    "specific_rows = [0, 1, 11, 21, 31, 41, 51, 61, 71, 81, 91]\n",
    "patientjson = [{'content': 'You are a patient chatting with a doctor over an online chat '\n",
    "             'interface. The counselor has never met you before. \\n'\n",
    "             'your background is you are  a 58-year-old African American male, '\n",
    "             'presents with complaints of bone pain and difficulty urinating. '\n",
    "             'He has a history of diabetes and is a former smoker.\\n'\n",
    "             'Prostate biopsy demonstrated a Gleason score of 9 (4+5), '\n",
    "             'involving 70% of the total core length. There is evidence of '\n",
    "             \"perineural invasion. The patient's clinical stage is T3a.\\n\"\n",
    "             'His brother was diagnosed with metastatic prostate cancer at the '\n",
    "             'age of 60.',\n",
    "  'role': 'system'},\n",
    " {'content': 'patient', 'role': 'user'}]\n",
    "\n",
    "\n",
    "df = pd.read_excel('PatientVignettes.xlsx',skiprows = lambda x:x not in specific_rows)\n",
    "\n",
    "for i, row in df.iterrows():\n",
    "        val = df.at[i,'Type']\n",
    "        print(val)\n",
    "\n",
    "        prompt = \" You are a patient chatting with a doctor over an online chat interface. The counselor has never met you before. \\\n",
    "                your background is you are \"\n",
    "\n",
    "        patientjson[0]['content']= prompt + os.linesep\\\n",
    "                  + df.at[i,'Demographics'] + os.linesep +df.at[i,'Pathology'] + os.linesep\\\n",
    "                         + df.at[i,'Family History'] \n",
    "        \n",
    "        patient_initial_dialog_history = patientjson\n",
    "        patient = PatientAgent(initial_dialog_history=patient_initial_dialog_history, agent_type=\"patient\", engine=\"gpt-3.5-turbo\")\n",
    "        #pprint(patient.dialog_history)\n",
    "\n",
    "        patient.reset()\n",
    "        counselor.reset()\n",
    "        moderator.reset()\n",
    "        response = run(counselor, patient, moderator, n=6)\n",
    "\n",
    "        openai.api_type = \"azure\"\n",
    "        openai.api_base = \"https://tfccgpoc.openai.azure.com/\"\n",
    "        openai.api_version = \"2023-09-15-preview\"\n",
    "        openai.api_key = os.getenv(\"OPENAI_API_KEY\")\n",
    "\n",
    "        prompt = \"what is the name of panel in this text, it will start with Neotype word, return as a string name:\" + response\n",
    "\n",
    "        message_text = [{\"role\":\"system\",\"content\":\"you are a average human\"},{\"role\":\"user\",\"content\":prompt}]\n",
    "\n",
    "        completion = openai.ChatCompletion.create(\n",
    "        engine=\"TFccgUsecase\",\n",
    "        messages = message_text,\n",
    "        temperature=0.7,\n",
    "        max_tokens=800,\n",
    "        top_p=0.95,\n",
    "        frequency_penalty=0,\n",
    "        presence_penalty=0,\n",
    "        stop=None\n",
    "        )\n",
    "\n",
    "        print(completion['choices'][0]['message'])\n",
    "     "
   ]
  }
 ],
 "metadata": {
  "kernelspec": {
   "display_name": "Python 3.11.4 64-bit",
   "language": "python",
   "name": "python3"
  },
  "language_info": {
   "codemirror_mode": {
    "name": "ipython",
    "version": 3
   },
   "file_extension": ".py",
   "mimetype": "text/x-python",
   "name": "python",
   "nbconvert_exporter": "python",
   "pygments_lexer": "ipython3",
   "version": "3.11.4"
  },
  "orig_nbformat": 4,
  "vscode": {
   "interpreter": {
    "hash": "03f63be00ced0e2ef2cbbfb29511571bc74ab17e26fe4c2aa6e6e842e2678362"
   }
  }
 },
 "nbformat": 4,
 "nbformat_minor": 2
}
